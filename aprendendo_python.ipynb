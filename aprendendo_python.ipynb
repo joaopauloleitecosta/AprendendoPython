{
 "cells": [
  {
   "cell_type": "code",
   "execution_count": 17,
   "metadata": {},
   "outputs": [
    {
     "name": "stdout",
     "output_type": "stream",
     "text": [
      "Concatenação de Strings:\n",
      "Olá João Paulo, você está no Curso de Automatização do SAP.\n"
     ]
    }
   ],
   "source": [
    "print(\"Concatenação de Strings:\")\n",
    "aluno = \"João Paulo\" #input() Comando para capturar o que foi digitado\n",
    "curso = \"Curso de Automatização do SAP.\"\n",
    "msg = f\"Olá {aluno}, você está no {curso}\" \n",
    "print(msg)"
   ]
  },
  {
   "cell_type": "code",
   "execution_count": 23,
   "metadata": {},
   "outputs": [
    {
     "name": "stdout",
     "output_type": "stream",
     "text": [
      "Slices em Strings:\n",
      "C\n",
      "Curso de A\n",
      "utomatizaç\n",
      ".\n",
      ".nohtyP moc PAS od oãçazitamotuA ed osruC\n"
     ]
    }
   ],
   "source": [
    "print(\"Slices em Strings:\")\n",
    "frase = \"Curso de Automatização do SAP com Python.\"\n",
    "print(frase[0])\n",
    "print(frase[:10])\n",
    "print(frase[10:20])\n",
    "print(frase[-1])\n",
    "print(frase[::-1])"
   ]
  },
  {
   "cell_type": "code",
   "execution_count": 7,
   "metadata": {},
   "outputs": [
    {
     "name": "stdout",
     "output_type": "stream",
     "text": [
      "Operações Matemáticas:\n",
      "<class 'int'>\n",
      "<class 'str'>\n",
      "<class 'float'>\n",
      "20\n",
      "100\n",
      "1\n"
     ]
    }
   ],
   "source": [
    "print(\"Operações Matemáticas:\")\n",
    "print(type(2))\n",
    "print(type('olá'))\n",
    "print(type(10.0))\n",
    "print(10 + 10)\n",
    "print(10**2)\n",
    "print(10 % 3)\n"
   ]
  },
  {
   "cell_type": "code",
   "execution_count": 15,
   "metadata": {},
   "outputs": [
    {
     "name": "stdout",
     "output_type": "stream",
     "text": [
      "Operadores Lógicos e Relacionais:\n",
      "True False\n",
      "False\n",
      "True\n",
      "False\n",
      "True\n",
      "False\n"
     ]
    }
   ],
   "source": [
    "print(\"Operadores Lógicos e Relacionais:\")\n",
    "x = True\n",
    "y = False\n",
    "print(x,y)\n",
    "print(x and y) #print(x & y)\n",
    "print(x or y) #print(x | y)\n",
    "print(x == y)\n",
    "print(x != y)\n",
    "print(not x)\n",
    "# Python considera com falso ou vazio\n",
    "# None, False, [], {}, (), '', \"\""
   ]
  },
  {
   "cell_type": "code",
   "execution_count": 4,
   "metadata": {},
   "outputs": [
    {
     "name": "stdout",
     "output_type": "stream",
     "text": [
      "Operadores Condicionais - if:\n",
      "Sua idade é 16 anos.\n"
     ]
    }
   ],
   "source": [
    "print(\"Operadores Condicionais - if:\")\n",
    "idade = 16 #int(input(\"Digite a sua idade:\"))\n",
    "if idade >= 18:\n",
    "    print(f\"Maior de idade, {idade} anos.\")\n",
    "elif idade >= 15 and idade < 18:\n",
    "    print(f\"Sua idade é {idade} anos.\") \n",
    "else:\n",
    "    print(f\"Menor de idade, {idade} anos.\")"
   ]
  },
  {
   "cell_type": "code",
   "execution_count": 29,
   "metadata": {},
   "outputs": [
    {
     "name": "stdout",
     "output_type": "stream",
     "text": [
      "Listas:\n",
      "<class 'list'>\n",
      "59\n",
      "['olá', 22, True, 10.5]\n",
      "['SAP', 'olá', 22, True]\n",
      "4\n",
      "[10, 3, 2, 0, -1]\n"
     ]
    }
   ],
   "source": [
    "print(\"Listas:\")\n",
    "numeros = [22, 31, 30] #listas no Python USA-SE [] COLCHETES\n",
    "print(type(numeros))\n",
    "numeros.append(59)\n",
    "print(numeros[-1])\n",
    "tudo = [\"olá\", 22, True, 10.5]\n",
    "print(tudo)\n",
    "tudo.insert(0, 'SAP') #Inserindo elemento na lista através do index\n",
    "tudo.pop()\n",
    "print(tudo)\n",
    "print(len(tudo))\n",
    "tudo = [10,2,0,-1,3]\n",
    "tudo.sort(reverse=True)\n",
    "print(tudo)"
   ]
  },
  {
   "cell_type": "code",
   "execution_count": 35,
   "metadata": {},
   "outputs": [
    {
     "name": "stdout",
     "output_type": "stream",
     "text": [
      "Estrutura de Repetição For:\n",
      "O número de letra a no texto é: 2\n"
     ]
    }
   ],
   "source": [
    "print(\"Estrutura de Repetição For:\")\n",
    "texto = \"Curso de Automatização do SAP\"\n",
    "lista_a = []\n",
    "\n",
    "for letra in texto:\n",
    "    if letra == 'a':\n",
    "        lista_a.append(letra)\n",
    "\n",
    "print(f\"O número de letra a no texto é: {len(lista_a)}\")"
   ]
  },
  {
   "cell_type": "code",
   "execution_count": 39,
   "metadata": {},
   "outputs": [
    {
     "name": "stdout",
     "output_type": "stream",
     "text": [
      "Imprimindo a Tabuada do 9:\n",
      "9 x 1 = 9\n",
      "9 x 2 = 18\n",
      "9 x 3 = 27\n",
      "9 x 4 = 36\n",
      "9 x 5 = 45\n",
      "9 x 6 = 54\n",
      "9 x 7 = 63\n",
      "9 x 8 = 72\n",
      "9 x 9 = 81\n"
     ]
    }
   ],
   "source": [
    "print(\"Imprimindo a Tabuada do 9:\")\n",
    "for i in range(1,11):\n",
    "    if i == 10:\n",
    "        break       #Apenas para mostrar como interromper a repetição       \n",
    "    print(f\"9 x {i} = {9*i}\")\n",
    "    "
   ]
  },
  {
   "cell_type": "code",
   "execution_count": 1,
   "metadata": {},
   "outputs": [
    {
     "name": "stdout",
     "output_type": "stream",
     "text": [
      "Tuplas:\n",
      "São estruturas semelhantes a listas, só que imutáveis.\n",
      "(1, 2, 14, 15.6)\n"
     ]
    }
   ],
   "source": [
    "print(\"Tuplas:\")    #tuplas no Python USA-SE () PARÊNTESES\n",
    "print(\"São estruturas semelhantes a listas, só que imutáveis.\")\n",
    "t = 1,2,14,15.6\n",
    "print(t)\n",
    "# t[0] = 2 <-- ISSO NÃO É PERMITIDO"
   ]
  },
  {
   "cell_type": "code",
   "execution_count": 14,
   "metadata": {},
   "outputs": [
    {
     "name": "stdout",
     "output_type": "stream",
     "text": [
      "Conjuntos:\n",
      "{'ORACLE', 'XYZ', 'SAP', 'TOTVS'}\n",
      "set()\n",
      "<class 'set'>\n",
      "{1, 2, 3, 4, 5, 6, 7, 8}\n",
      "{1, 3, 4, 6, 7, 8}\n",
      "{'j', 't', 'p', 's', 'l', 'c'}\n"
     ]
    }
   ],
   "source": [
    "print(\"Conjuntos:\")     #conjuntos no Python USA-SE {} CHAVES\n",
    "erp = {'SAP', 'TOTVS', 'SAP', 'ORACLE', 'XYZ'}\n",
    "print(erp)  #Ignora os repetidos\n",
    "conjunto_vazio = set()\n",
    "print(conjunto_vazio)\n",
    "print(type(conjunto_vazio))\n",
    "a = {1,2,3,4,5}\n",
    "b = {2,5,6,7,8}\n",
    "print(a | b)    #união dos elementos\n",
    "print(a ^ b)    #elementos únicos em cada conjunto\n",
    "c = {x for x in \"joaopauloleitecosta\" if x not in \"aeiou\"}\n",
    "print(c)\n"
   ]
  },
  {
   "cell_type": "code",
   "execution_count": 31,
   "metadata": {},
   "outputs": [
    {
     "name": "stdout",
     "output_type": "stream",
     "text": [
      "Dicionários:\n",
      "{'Ferrari': 360, 'Fusca': 1960, 'Ford': 250}\n",
      "[360, 1960, 250]\n",
      "[('Ferrari', 360), ('Fusca', 1960), ('Ford', 250)]\n",
      "{2: 4, 4: 16, 6: 36}\n",
      "<class 'dict'>\n",
      "{'joaopaulo': 42, 'karol': 38}\n",
      "ICMS 18%\n",
      "IPI 5%\n"
     ]
    }
   ],
   "source": [
    "print(\"Dicionários:\")   #dicionários em Python USA-SE {} CHAVES com par chave-valor\n",
    "carros = {'Ferrari': 360, 'Fusca': 1960}\n",
    "carros['Ford'] = 250\n",
    "print(carros)\n",
    "print(list(carros.values()))    #dicionário transformado em lista com apenas os valores\n",
    "print(list(carros.items()))     #transformado em lista com tuplas chave-valor\n",
    "a = {x: x**2 for x in (2,4,6)}\n",
    "print(a)\n",
    "print(type(a))\n",
    "x = dict(joaopaulo=42, karol=38)\n",
    "print(x)\n",
    "impostos = {'ICMS': '18%', 'IPI': '5%'}\n",
    "for k, v in impostos.items():\n",
    "    print(k,v)"
   ]
  },
  {
   "cell_type": "code",
   "execution_count": 1,
   "metadata": {},
   "outputs": [
    {
     "name": "stdout",
     "output_type": "stream",
     "text": [
      "Técnicas de interação:\n",
      "0 Marcelo\n",
      "1 Ana\n",
      "2 Marcos\n",
      "3 Giselda\n",
      "Qual é o seu Nome? É João Paulo.\n",
      "Qual é o seu Hobbie? É Plantar coentro.\n",
      "Qual é o seu Carro? É FIT.\n",
      "Banana\n",
      "Carambola\n",
      "Maçã\n",
      "Pêra\n",
      "Uva\n",
      "[10.6, 12.4, nan, 5.5, nan, 14.7]\n",
      "[10.6, 12.4, 5.5, 14.7]\n"
     ]
    }
   ],
   "source": [
    "print(\"Técnicas de interação:\")\n",
    "lista = ['Marcelo', 'Ana', 'Marcos', 'Giselda']\n",
    "for i, v in enumerate(lista):\n",
    "    print(i, v.title())\n",
    "\n",
    "perguntas = ['Nome', 'Hobbie', 'Carro']\n",
    "respostas = ['João Paulo', 'Plantar coentro', 'FIT']\n",
    "for p, r in zip(perguntas, respostas):\n",
    "    print(f\"Qual é o seu {p}? É {r}.\")\n",
    "\n",
    "frutas = ['maçã', 'banana', 'banana','uva','pêra','carambola','uva']\n",
    "for f in sorted(set(frutas)):   #usando conjuntos para eliminar os duplicados\n",
    "    print(f.title())\n",
    "\n",
    "import math\n",
    "raw_data = [10.6, 12.4, float('NaN'), 5.5, float('NaN'), 14.7]\n",
    "valores_filtrados = []\n",
    "print(raw_data)\n",
    "for valor in raw_data:\n",
    "    if not math.isnan(valor):\n",
    "        valores_filtrados.append(valor)\n",
    "print(valores_filtrados)\n"
   ]
  },
  {
   "cell_type": "code",
   "execution_count": 2,
   "metadata": {},
   "outputs": [
    {
     "name": "stdout",
     "output_type": "stream",
     "text": [
      "Estruturas de Repetição While:\n",
      "0\n",
      "1\n",
      "2\n",
      "3\n",
      "4\n"
     ]
    }
   ],
   "source": [
    "print(\"Estruturas de Repetição While:\")\n",
    "numero = 0\n",
    "while numero < 5:\n",
    "    print(numero)\n",
    "    numero+=1"
   ]
  },
  {
   "cell_type": "code",
   "execution_count": 6,
   "metadata": {},
   "outputs": [
    {
     "name": "stdout",
     "output_type": "stream",
     "text": [
      "Functions:\n",
      "Olá joaopaulo, você está no curso AUTOMATIZAÇÃO DO SAP.\n",
      "500\n"
     ]
    }
   ],
   "source": [
    "print(\"Functions:\")\n",
    "def saudacao(nome):\n",
    "    print(f\"Olá {nome}, você está no curso AUTOMATIZAÇÃO DO SAP.\")\n",
    "\n",
    "saudacao(\"joaopaulo\")\n",
    "\n",
    "def soma_multiplica_por100(numero1, numero2):\n",
    "    soma = numero1 + numero2\n",
    "    return soma*100\n",
    "print(soma_multiplica_por100(2,3))"
   ]
  },
  {
   "cell_type": "code",
   "execution_count": 5,
   "metadata": {},
   "outputs": [
    {
     "name": "stdout",
     "output_type": "stream",
     "text": [
      "Separa em listas do mesmo tipo:\n",
      "['joaopaulo', 'a', 'anabarbara'] [10, 2.4, 2.3, 25]\n",
      "SAP\n"
     ]
    }
   ],
   "source": [
    "print(\"Separa em listas do mesmo tipo:\")\n",
    "lista = [\"joaopaulo\", 10, 2.4, 'a', 2.3, 25, \"anabarbara\"]\n",
    "def separa_valores(lista):\n",
    "    textos  = []\n",
    "    numeros = []\n",
    "    \n",
    "    for l in lista:\n",
    "        if isinstance(l, str):\n",
    "            textos.append(l)\n",
    "        else:\n",
    "            numeros.append(l)\n",
    "    \n",
    "    return textos, numeros\n",
    "\n",
    "text, num = separa_valores(lista)\n",
    "print(text, num)\n",
    "\n",
    "frase = \"Automatização do SAP\"\n",
    "print(frase[-3:])"
   ]
  },
  {
   "cell_type": "code",
   "execution_count": null,
   "metadata": {},
   "outputs": [],
   "source": []
  }
 ],
 "metadata": {
  "kernelspec": {
   "display_name": "venv",
   "language": "python",
   "name": "python3"
  },
  "language_info": {
   "codemirror_mode": {
    "name": "ipython",
    "version": 3
   },
   "file_extension": ".py",
   "mimetype": "text/x-python",
   "name": "python",
   "nbconvert_exporter": "python",
   "pygments_lexer": "ipython3",
   "version": "3.10.11"
  },
  "orig_nbformat": 4
 },
 "nbformat": 4,
 "nbformat_minor": 2
}

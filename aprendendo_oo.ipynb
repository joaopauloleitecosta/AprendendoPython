{
 "cells": [
  {
   "attachments": {},
   "cell_type": "markdown",
   "metadata": {},
   "source": [
    "Aprendendo Orientação à Objetos - Classes"
   ]
  },
  {
   "cell_type": "code",
   "execution_count": 1,
   "metadata": {},
   "outputs": [],
   "source": [
    "import time\n",
    "\n",
    "#Criando uma classe, construtor e métodos\n",
    "class Celular:\n",
    "    def __init__(self, sistema, marca, tamanho_tela):\n",
    "        self.sistema = sistema\n",
    "        self.marca = marca\n",
    "        self.tamanho_tela = tamanho_tela\n",
    "\n",
    "    def ligar(self):\n",
    "        print(\"Ligando o celular...\")\n",
    "        time.sleep(3)\n",
    "        print(\"Celular ligado.\")\n",
    "\n",
    "    def fazer_chamada(self, contato):\n",
    "        print(f\"Realizando chamada para o contato {contato}\")"
   ]
  },
  {
   "cell_type": "code",
   "execution_count": 2,
   "metadata": {},
   "outputs": [
    {
     "name": "stdout",
     "output_type": "stream",
     "text": [
      "Ligando o celular...\n",
      "Celular ligado.\n"
     ]
    }
   ],
   "source": [
    "meu_tel = Celular(\"Android\", \"Samsung\", 6.5)\n",
    "meu_tel.ligar()"
   ]
  },
  {
   "cell_type": "code",
   "execution_count": 3,
   "metadata": {},
   "outputs": [
    {
     "name": "stdout",
     "output_type": "stream",
     "text": [
      "Realizando chamada para o contato 75 98146-4943\n"
     ]
    }
   ],
   "source": [
    "meu_tel.fazer_chamada(\"75 98146-4943\")"
   ]
  },
  {
   "cell_type": "code",
   "execution_count": 4,
   "metadata": {},
   "outputs": [],
   "source": [
    "class Carro:\n",
    "    def __init__(self, marca, modelo, ano):\n",
    "        self.marca = marca\n",
    "        self.modelo = modelo\n",
    "        self.ano = ano\n",
    "        self.marcador_km = 0\n",
    "\n",
    "    def descricao_carro(self):\n",
    "        nome = f'{self.ano} {self.marca} {self.modelo}'\n",
    "        print(nome.title())\n",
    "\n",
    "    def checar_quilometragem(self):\n",
    "        print(f\"Este carro está com {self.marcador_km} km rodados.\")\n",
    "\n",
    "    def aumentar_quilometragem(self, km):\n",
    "        self.marcador_km = self.marcador_km + km"
   ]
  },
  {
   "cell_type": "code",
   "execution_count": 5,
   "metadata": {},
   "outputs": [],
   "source": [
    "meu_carro = Carro(\"Toyota\", \"Prius\", 2023)"
   ]
  },
  {
   "cell_type": "code",
   "execution_count": 6,
   "metadata": {},
   "outputs": [
    {
     "name": "stdout",
     "output_type": "stream",
     "text": [
      "Este carro está com 0 km rodados.\n"
     ]
    }
   ],
   "source": [
    "meu_carro.checar_quilometragem()"
   ]
  },
  {
   "cell_type": "code",
   "execution_count": 27,
   "metadata": {},
   "outputs": [],
   "source": [
    "meu_carro.aumentar_quilometragem(100)"
   ]
  },
  {
   "cell_type": "code",
   "execution_count": 28,
   "metadata": {},
   "outputs": [
    {
     "name": "stdout",
     "output_type": "stream",
     "text": [
      "Este carro está com 100 km rodados.\n"
     ]
    }
   ],
   "source": [
    "meu_carro.checar_quilometragem()"
   ]
  },
  {
   "cell_type": "code",
   "execution_count": 29,
   "metadata": {},
   "outputs": [],
   "source": [
    "meu_carro.aumentar_quilometragem(15)"
   ]
  },
  {
   "cell_type": "code",
   "execution_count": 31,
   "metadata": {},
   "outputs": [
    {
     "name": "stdout",
     "output_type": "stream",
     "text": [
      "2023 Toyota Prius\n"
     ]
    }
   ],
   "source": [
    "meu_carro.descricao_carro()"
   ]
  },
  {
   "cell_type": "code",
   "execution_count": 7,
   "metadata": {},
   "outputs": [],
   "source": [
    "class Battery():\n",
    "    def __init__(self, battery_size = 70):\n",
    "        self.battery_size = battery_size\n",
    "\n",
    "    def descrever_bateria(self):\n",
    "        print(f\"Este carro tem uma bateria de {self.battery_size} Kwh.\")\n",
    "\n",
    "    def duracao_bateria(self):\n",
    "        if self.battery_size == 70:\n",
    "            km = 260\n",
    "        elif self.battery_size == 100:\n",
    "            km = 315\n",
    "        else:\n",
    "            print(\"Este carro está com a bateria fraca.\")\n",
    "            return\n",
    "        \n",
    "        print(f\"Este carro pode andar {km} km.\")\n",
    "\n",
    "\n",
    "class Carro_Eletrico(Carro):\n",
    "    def __init__(self, marca, modelo, ano):\n",
    "        super().__init__(marca, modelo, ano)\n",
    "        self.bateria = Battery()\n",
    "    "
   ]
  },
  {
   "cell_type": "code",
   "execution_count": 8,
   "metadata": {},
   "outputs": [
    {
     "name": "stdout",
     "output_type": "stream",
     "text": [
      "2021 Tesla S\n"
     ]
    }
   ],
   "source": [
    "novo_carro = Carro_Eletrico(\"Tesla\", \"S\", 2021)\n",
    "novo_carro.descricao_carro()"
   ]
  },
  {
   "cell_type": "code",
   "execution_count": 10,
   "metadata": {},
   "outputs": [
    {
     "name": "stdout",
     "output_type": "stream",
     "text": [
      "Este carro tem uma bateria de 10 Kwh.\n"
     ]
    }
   ],
   "source": [
    "novo_carro.bateria.battery_size\n",
    "novo_carro.bateria.descrever_bateria()"
   ]
  },
  {
   "cell_type": "code",
   "execution_count": 11,
   "metadata": {},
   "outputs": [
    {
     "name": "stdout",
     "output_type": "stream",
     "text": [
      "Este carro está com a bateria fraca.\n"
     ]
    }
   ],
   "source": [
    "novo_carro.bateria.duracao_bateria()"
   ]
  },
  {
   "cell_type": "code",
   "execution_count": 12,
   "metadata": {},
   "outputs": [],
   "source": [
    "novo_carro.bateria.battery_size = 10"
   ]
  },
  {
   "cell_type": "code",
   "execution_count": 13,
   "metadata": {},
   "outputs": [
    {
     "name": "stdout",
     "output_type": "stream",
     "text": [
      "Este carro está com a bateria fraca.\n"
     ]
    }
   ],
   "source": [
    "novo_carro.bateria.duracao_bateria()"
   ]
  },
  {
   "cell_type": "code",
   "execution_count": 17,
   "metadata": {},
   "outputs": [
    {
     "name": "stdout",
     "output_type": "stream",
     "text": [
      "Tratamento de Erros:\n",
      "ERRO **** division by zero\n",
      "Caiu no Finally\n"
     ]
    }
   ],
   "source": [
    "print(\"Tratamento de Erros:\")\n",
    "try:\n",
    "    a = 10\n",
    "    divisao = a/0\n",
    "except Exception as e:\n",
    "    print(\"ERRO ****\",e)\n",
    "else:\n",
    "    print(\"Caiu no else\")\n",
    "finally:\n",
    "    print(\"Caiu no Finally\")"
   ]
  },
  {
   "cell_type": "code",
   "execution_count": 24,
   "metadata": {},
   "outputs": [
    {
     "name": "stdout",
     "output_type": "stream",
     "text": [
      "Trabalhando com arquivos:\n",
      "Estou aprendendo Python! \n",
      "A linguagem é muito prática!\n",
      "\n"
     ]
    }
   ],
   "source": [
    "print(\"Trabalhando com arquivos:\")\n",
    "with open(\"teste.txt\", \"w+\") as file:   #Escrevendo dentro do arquivo\n",
    "    file.write(\"Estou aprendendo Python! \\n\")\n",
    "    file.write(\"A linguagem é muito prática!\\n\")\n",
    "\n",
    "    file.seek(0)\n",
    "    print(file.read())"
   ]
  },
  {
   "cell_type": "code",
   "execution_count": 25,
   "metadata": {},
   "outputs": [
    {
     "name": "stdout",
     "output_type": "stream",
     "text": [
      "Estou aprendendo Python! \n",
      "A linguagem é muito prática!\n",
      "\n"
     ]
    }
   ],
   "source": [
    "with open(\"teste.txt\", \"r\") as file:    #Apenas leitura do arquivo\n",
    "    print(file.read())"
   ]
  },
  {
   "cell_type": "code",
   "execution_count": 23,
   "metadata": {},
   "outputs": [
    {
     "name": "stdout",
     "output_type": "stream",
     "text": [
      "Estou aprendendo Python! \n",
      "\n",
      "A linguagem é muito prática!Tenho que estudar todos os dias.\n"
     ]
    }
   ],
   "source": [
    "with open(\"teste.txt\", \"r\") as file:\n",
    "    for linha in file:\n",
    "        print(linha)"
   ]
  },
  {
   "cell_type": "code",
   "execution_count": 26,
   "metadata": {},
   "outputs": [
    {
     "name": "stdout",
     "output_type": "stream",
     "text": [
      "Estou aprendendo Python! \n",
      "A linguagem é muito prática!\n",
      "Tenho que estudar todos os dias.\n"
     ]
    }
   ],
   "source": [
    "with open(\"teste.txt\", \"a+\") as file:   #Utilizando o Append\n",
    "    file.write(\"Tenho que estudar todos os dias.\")\n",
    "    file.seek(0)\n",
    "    print(file.read())"
   ]
  },
  {
   "cell_type": "code",
   "execution_count": null,
   "metadata": {},
   "outputs": [],
   "source": []
  }
 ],
 "metadata": {
  "kernelspec": {
   "display_name": "venv",
   "language": "python",
   "name": "python3"
  },
  "language_info": {
   "codemirror_mode": {
    "name": "ipython",
    "version": 3
   },
   "file_extension": ".py",
   "mimetype": "text/x-python",
   "name": "python",
   "nbconvert_exporter": "python",
   "pygments_lexer": "ipython3",
   "version": "3.10.11"
  },
  "orig_nbformat": 4
 },
 "nbformat": 4,
 "nbformat_minor": 2
}
